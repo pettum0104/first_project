{
 "cells": [
  {
   "cell_type": "code",
   "execution_count": 23,
   "id": "bdf7cb13",
   "metadata": {},
   "outputs": [
    {
     "name": "stdout",
     "output_type": "stream",
     "text": [
      "Predicted: area = 2550.031005859375, delay = 1720.8153076171875\n",
      "True:\n"
     ]
    },
    {
     "data": {
      "text/html": [
       "<div>\n",
       "<style scoped>\n",
       "    .dataframe tbody tr th:only-of-type {\n",
       "        vertical-align: middle;\n",
       "    }\n",
       "\n",
       "    .dataframe tbody tr th {\n",
       "        vertical-align: top;\n",
       "    }\n",
       "\n",
       "    .dataframe thead th {\n",
       "        text-align: right;\n",
       "    }\n",
       "</style>\n",
       "<table border=\"1\" class=\"dataframe\">\n",
       "  <thead>\n",
       "    <tr style=\"text-align: right;\">\n",
       "      <th></th>\n",
       "      <th>sid</th>\n",
       "      <th>area</th>\n",
       "      <th>delay</th>\n",
       "      <th>name</th>\n",
       "    </tr>\n",
       "  </thead>\n",
       "  <tbody>\n",
       "    <tr>\n",
       "      <th>42001</th>\n",
       "      <td>1</td>\n",
       "      <td>2499.34</td>\n",
       "      <td>1786.01</td>\n",
       "      <td>wb_dma</td>\n",
       "    </tr>\n",
       "  </tbody>\n",
       "</table>\n",
       "</div>"
      ],
      "text/plain": [
       "       sid     area    delay    name\n",
       "42001    1  2499.34  1786.01  wb_dma"
      ]
     },
     "execution_count": 23,
     "metadata": {},
     "output_type": "execute_result"
    }
   ],
   "source": [
    "from prediction_script import predict\n",
    "import os\n",
    "\n",
    "\n",
    "# dynamic_node_syn2_step20.graphml i2c_syn0_step20.graphml wb_dma_syn1_step20.graphml\n",
    "\n",
    "pred = 'wb_dma_syn1_step20.graphml'\n",
    "name = '_'.join(pred.split('_')[:-2])\n",
    "sid = int(pred.split('_')[-2][3:])\n",
    "\n",
    "al = []\n",
    "path = 'C:/Users/pettu/ds/task1/'\n",
    "for i, file in enumerate(os.listdir(f'{path}done_all')):\n",
    "    if '$' not in file:\n",
    "        df2 = pd.read_csv(f'{path}targets/ad_{file}')\n",
    "        df2['name'] = file[:-4]\n",
    "        al.append(df2)  \n",
    "df_al = pd.concat(al, axis=0, ignore_index=True)\n",
    "\n",
    "ans = predict(pred)\n",
    "\n",
    "print(f'Predicted: area = {ans[0]}, delay = {ans[1]}')\n",
    "print('True:')\n",
    "df_al.loc[((df_al['sid'] == sid) & (df_al['name'] == name))]"
   ]
  }
 ],
 "metadata": {
  "kernelspec": {
   "display_name": "Python 3 (ipykernel)",
   "language": "python",
   "name": "python3"
  },
  "language_info": {
   "codemirror_mode": {
    "name": "ipython",
    "version": 3
   },
   "file_extension": ".py",
   "mimetype": "text/x-python",
   "name": "python",
   "nbconvert_exporter": "python",
   "pygments_lexer": "ipython3",
   "version": "3.11.5"
  }
 },
 "nbformat": 4,
 "nbformat_minor": 5
}
